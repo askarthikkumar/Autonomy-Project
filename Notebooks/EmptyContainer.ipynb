{
 "cells": [
  {
   "cell_type": "code",
   "execution_count": 1,
   "metadata": {},
   "outputs": [],
   "source": [
    "import numpy as np\n",
    "import scipy as sp\n",
    "\n",
    "from scipy.spatial.transform import Rotation\n",
    "from quaternion import from_rotation_matrix, quaternion\n",
    "\n",
    "from rlbench.environment import Environment\n",
    "from rlbench.action_modes import ArmActionMode, ActionMode\n",
    "from rlbench.observation_config import ObservationConfig\n",
    "from rlbench.tasks import *\n",
    "\n",
    "from pyrep.const import ConfigurationPathAlgorithms as Algos\n",
    "from scipy.spatial.transform import Rotation as R\n"
   ]
  },
  {
   "cell_type": "markdown",
   "metadata": {},
   "source": [
    "# Problem Statement"
   ]
  },
  {
   "cell_type": "code",
   "execution_count": 2,
   "metadata": {},
   "outputs": [],
   "source": [
    "def skew(x):\n",
    "    return np.array([[0, -x[2], x[1]],\n",
    "                    [x[2], 0, -x[0]],\n",
    "                    [-x[1], x[0], 0]])\n",
    "\n",
    "\n",
    "def sample_normal_pose(pos_scale, rot_scale):\n",
    "    '''\n",
    "    Samples a 6D pose from a zero-mean isotropic normal distribution\n",
    "    '''\n",
    "    pos = np.random.normal(scale=pos_scale)\n",
    "        \n",
    "    eps = skew(np.random.normal(scale=rot_scale))\n",
    "    R = sp.linalg.expm(eps)\n",
    "    quat_wxyz = from_rotation_matrix(R)\n",
    "\n",
    "    return pos, quat_wxyz\n",
    "\n",
    "\n",
    "class RandomAgent:\n",
    "\n",
    "    def act(self, obs):\n",
    "        delta_pos = [(np.random.rand() * 2 - 1) * 0.005, 0, 0]\n",
    "        delta_quat = [0, 0, 0, 1] # xyzw\n",
    "        gripper_pos = [np.random.rand() > 0.5]\n",
    "        return delta_pos + delta_quat + gripper_pos\n",
    "\n",
    "\n",
    "class NoisyObjectPoseSensor:\n",
    "\n",
    "    def __init__(self, env):\n",
    "        self._env = env\n",
    "\n",
    "        self._pos_scale = [0.005, 0.005, 0.005] \n",
    "        self._rot_scale = [0.01] * 3\n",
    "\n",
    "    def get_poses(self):\n",
    "        objs = self._env._scene._active_task.get_base().get_objects_in_tree(exclude_base=True, first_generation_only=False)\n",
    "        obj_poses = {}\n",
    "\n",
    "        for obj in objs:\n",
    "            name = obj.get_name()\n",
    "            pose = obj.get_pose()\n",
    "\n",
    "            pos, quat_wxyz = sample_normal_pose(self._pos_scale, self._rot_scale)\n",
    "            gt_quat_wxyz = quaternion(pose[6], pose[3], pose[4], pose[5])\n",
    "            perturbed_quat_wxyz = quat_wxyz * gt_quat_wxyz\n",
    "\n",
    "            pose[:3] += pos\n",
    "            pose[3:] = [perturbed_quat_wxyz.x, perturbed_quat_wxyz.y, perturbed_quat_wxyz.z, perturbed_quat_wxyz.w]\n",
    "\n",
    "            obj_poses[name] = pose\n",
    "\n",
    "        return obj_poses\n"
   ]
  },
  {
   "cell_type": "markdown",
   "metadata": {},
   "source": [
    "## Helper Functions"
   ]
  },
  {
   "cell_type": "code",
   "execution_count": 3,
   "metadata": {},
   "outputs": [],
   "source": [
    "def contains(r1, r2):\n",
    "    #whether r2 is within r1\n",
    "    return r1[0] < r2[0] < r2[1] < r1[1] and r1[2] < r2[2] < r2[3] < r1[3] and r1[4] < r2[4] < r2[5] < r1[5]\n",
    "\n",
    "def get_edge_points(obj_bbox,obj_mat):\n",
    "    bbox_faceedge=np.array([[obj_bbox[0],0,0],\n",
    "    [obj_bbox[1],0,0],\n",
    "    [0,obj_bbox[2],0],\n",
    "    [0,obj_bbox[3],0],\n",
    "    [0,0,obj_bbox[4]],\n",
    "    [0,0,obj_bbox[5]]]).T #3x6\n",
    "    bbox_faceedge=np.vstack((bbox_faceedge,np.ones((1,6)))) #4x6\n",
    "    box=(obj_mat@bbox_faceedge).T #6X3 face edge coords in world frame\n",
    "    rect=min(box[:,0]),max(box[:,0]),min(box[:,1]),max(box[:,1]),min(box[:,2]),max(box[:,2]) #max/min along x,y,z world axes\n",
    "    return rect"
   ]
  },
  {
   "cell_type": "code",
   "execution_count": 4,
   "metadata": {},
   "outputs": [],
   "source": [
    "class StateMachine(object):\n",
    "    def __init__(self):\n",
    "        self.env=None\n",
    "        self.home=None\n",
    "        self.task=None\n",
    "        self.sensor=None\n",
    "        self.objs_dict=None\n",
    "        \n",
    "    def initialize(self):\n",
    "        DATASET = ''\n",
    "        obs_config = ObservationConfig()\n",
    "        obs_config.set_all(True)\n",
    "        obs_config.left_shoulder_camera.rgb = True\n",
    "        obs_config.right_shoulder_camera.rgb = True\n",
    "        action_mode = ActionMode(ArmActionMode.DELTA_EE_POSE)\n",
    "        self.env = Environment(\n",
    "            action_mode, DATASET, obs_config, False)\n",
    "        self.sensor = NoisyObjectPoseSensor(self.env)\n",
    "        self.env.launch()\n",
    "        self.task = self.env.get_task(EmptyContainer)\n",
    "        self.task.reset()\n",
    "        self.home = self.get_objects()['large_container'].get_pose()\n",
    "        self.home[2]+=0.3\n",
    "        # demos = task.get_demos(3, live_demos=live_demos)\n",
    "        \n",
    "        self.objs = self.get_objects()\n",
    "        self.movable_objects = ['Shape', 'Shape1', 'Shape3']\n",
    "        self.target_bins = ['small_container0']\n",
    "        self.start_bins = ['large_container']\n",
    "        self.max_retry = 5\n",
    "        \n",
    "        \n",
    "    def get_objects(self):\n",
    "        objs = self.env._scene._active_task.get_base().get_objects_in_tree(exclude_base=True, first_generation_only=True)\n",
    "        objs_dict = {}\n",
    "        for obj in objs:\n",
    "            name = obj.get_name()\n",
    "            pose = obj.get_pose()\n",
    "            objs_dict[name] = obj\n",
    "        return objs_dict\n",
    "\n",
    "    # Move above object\n",
    "    def move_to(self, pose, pad=0.05, ignore_collisions=True):\n",
    "        target_pose = np.copy(pose)\n",
    "        obs = self.env._scene.get_observation()\n",
    "        init_pose=obs.gripper_pose\n",
    "        obs = self.env._scene.get_observation()\n",
    "        init_pose=obs.gripper_pose\n",
    "        target_pose[2]+=pad\n",
    "        path=self.env._robot.arm.get_path(np.array(target_pose[0:3]),quaternion=np.array([0,1,0,0]), trials=1000,ignore_collisions=True, algorithm=Algos.RRTConnect)\n",
    "        # TODO catch errors and deal with situations when path not found\n",
    "        return path\n",
    "        \n",
    "    def grasp(self,obj):\n",
    "        cond=False\n",
    "        while not cond:\n",
    "            cond=self.env._robot.gripper.actuate(0,0.1)\n",
    "            self.env._scene.step()\n",
    "        cond = self.env._robot.gripper.grasp(obj)\n",
    "        return cond\n",
    "    \n",
    "    def release(self, obj):\n",
    "        cond=False\n",
    "        while not cond:\n",
    "            cond=self.env._robot.gripper.actuate(1,0.1)\n",
    "            self.env._scene.step()\n",
    "        self.env._robot.gripper.release()\n",
    "    \n",
    "    def execute(self, path):\n",
    "        done=False\n",
    "        path.set_to_start()\n",
    "        while not done:\n",
    "            done = path.step()\n",
    "            a = path.visualize()\n",
    "            self.env._scene.step()\n",
    "        return done\n",
    "    \n",
    "    def reset(self):\n",
    "        self.task.reset()\n",
    "    \n",
    "    \n",
    "    def is_within(self,obj1,obj2):\n",
    "        #whether obj2 is within obj1\n",
    "        obj1_bbox=obj1.get_bounding_box();obj1_mat=np.array(obj1.get_matrix()).reshape(3,4);\n",
    "        obj2_bbox=obj2.get_bounding_box();obj2_mat=np.array(obj2.get_matrix()).reshape(3,4);\n",
    "        obj1_rect= get_edge_points(obj1_bbox,obj1_mat)\n",
    "        obj2_rect= get_edge_points(obj2_bbox,obj2_mat)\n",
    "        return contains(obj1_rect,obj2_rect)\n",
    "    \n",
    "    def picking_bin_empty(self):\n",
    "        '''\n",
    "         Returns whether the picking bin is empty\n",
    "        '''\n",
    "        self.objs_dict=machine.get_objects()\n",
    "        bin_obj=self.objs_dict['large_container']\n",
    "        for obj_name in self.objs_dict.keys():\n",
    "            if (not ('container' in obj_name)):\n",
    "                if self.is_within(bin_obj,self.objs_dict[obj_name]):\n",
    "                    return False\n",
    "        return True\n",
    "    def placing_bin_full(self):\n",
    "        '''\n",
    "         Returns whether the placing bin is full\n",
    "        '''\n",
    "        self.objs_dict=machine.get_objects()\n",
    "        bin_obj=self.objs_dict['small_container0']\n",
    "        for obj_name in self.objs_dict.keys():\n",
    "            if (not ('container' in obj_name)):\n",
    "                if not (self.is_within(bin_obj,self.objs_dict[obj_name])):\n",
    "                    return False\n",
    "        return True\n",
    "    \n",
    "    def get_all_shapes(self):\n",
    "        objects = []\n",
    "\n",
    "        for name in self.objs:\n",
    "            if \"Shape\" in name:\n",
    "                objects.append(name)\n",
    "\n",
    "        print(objects)\n",
    "        return objects\n",
    "    \n",
    "    def move_objects_to_target(self, target_bins, start_bins):\n",
    "        \n",
    "        target_bin = target_bins[0]\n",
    "        start_bin = start_bins[0]\n",
    "        \n",
    "        start_bin_pose = self.objs[start_bin].get_pose()\n",
    "        start_bin_pose[2]+=0.3\n",
    "\n",
    "        target_bin_pose = self.objs[target_bin].get_pose()\n",
    "        target_bin_pose[2]+=0.3\n",
    "\n",
    "        \n",
    "#         move_objs = []\n",
    "#         for obj in machine.movable_objects:\n",
    "#             if self.is_within(target_bin, obj):\n",
    "#                 move_objs.append(obj)\n",
    "#         print(move_objs)\n",
    "\n",
    "        move_objs = machine.movable_objects\n",
    "    \n",
    "        for i, shape in enumerate(move_objs):\n",
    "            \n",
    "            cond = False\n",
    "            retry_count = 0\n",
    "            while not cond and retry_count < self.max_retry:\n",
    "                \n",
    "                # go back to home position\n",
    "                path=machine.move_to(start_bin_pose,0,True)\n",
    "                machine.execute(path)\n",
    "                print(start_bin_pose)\n",
    "\n",
    "                # move above object\n",
    "                objs_poses = machine.sensor.get_poses()\n",
    "                # pose=objs[shape].get_pose()\n",
    "                pose=objs_poses[shape]\n",
    "                path=machine.move_to(pose,False)\n",
    "                machine.execute(path)\n",
    "\n",
    "                # grasp the object\n",
    "                cond = machine.grasp(self.objs[shape])\n",
    "                \n",
    "                if not cond:\n",
    "                    retry_count += 1\n",
    "                    print(\"retry count: \", retry_count)\n",
    "\n",
    "            # move to home position\n",
    "            path=machine.move_to(start_bin_pose,0,True)\n",
    "            print(\"GRIPPER FORCES\",self.env._robot.gripper.get_joint_forces())\n",
    "            machine.execute(path)\n",
    "\n",
    "            # move above target container\n",
    "            objs_poses=machine.sensor.get_poses()\n",
    "            pose = objs_poses[target_bin]\n",
    "            pose[0] += (i*0.04 - 0.04)\n",
    "            path=machine.move_to(pose,0.05,True)\n",
    "            machine.execute(path)\n",
    "\n",
    "            # release the object\n",
    "            machine.release(self.objs[shape])\n",
    "        \n",
    "        path=machine.move_to(machine.home,0,True)\n",
    "        machine.execute(path)"
   ]
  },
  {
   "cell_type": "code",
   "execution_count": 5,
   "metadata": {},
   "outputs": [],
   "source": [
    "machine = StateMachine()\n",
    "machine.initialize()"
   ]
  },
  {
   "cell_type": "code",
   "execution_count": null,
   "metadata": {},
   "outputs": [],
   "source": [
    "# FWD\n",
    "machine.move_objects_to_target(machine.target_bins, machine.start_bins)"
   ]
  },
  {
   "cell_type": "code",
   "execution_count": null,
   "metadata": {},
   "outputs": [],
   "source": []
  },
  {
   "cell_type": "code",
   "execution_count": 6,
   "metadata": {},
   "outputs": [
    {
     "data": {
      "text/plain": [
       "{'large_container': <pyrep.objects.shape.Shape at 0x7fa35dff7fd0>,\n",
       " 'small_container0': <pyrep.objects.shape.Shape at 0x7fa35dfb2780>,\n",
       " 'small_container1': <pyrep.objects.shape.Shape at 0x7fa35dfb2048>,\n",
       " 'Shape': <pyrep.objects.shape.Shape at 0x7fa35dfb2b38>,\n",
       " 'Shape1': <pyrep.objects.shape.Shape at 0x7fa35dfb2940>,\n",
       " 'Shape3': <pyrep.objects.shape.Shape at 0x7fa35dfb2908>}"
      ]
     },
     "execution_count": 6,
     "metadata": {},
     "output_type": "execute_result"
    }
   ],
   "source": [
    "machine.get_objects()"
   ]
  },
  {
   "cell_type": "code",
   "execution_count": null,
   "metadata": {},
   "outputs": [],
   "source": [
    "# make the start pose\n",
    "bin_pose = machine.objs['small_container0'].get_pose()\n",
    "bin_pose[2] += 0.2\n",
    "bb_container = machine.objs['small_container0'].get_bounding_box()\n",
    "bin_pose[0] += bb_container[1]\n",
    "print(bin_pose)"
   ]
  },
  {
   "cell_type": "code",
   "execution_count": null,
   "metadata": {},
   "outputs": [],
   "source": [
    "path=machine.move_to(bin_pose,0,True)\n",
    "machine.execute(path)"
   ]
  },
  {
   "cell_type": "code",
   "execution_count": null,
   "metadata": {},
   "outputs": [],
   "source": [
    "bin_pose[2] += 0.06\n"
   ]
  },
  {
   "cell_type": "code",
   "execution_count": null,
   "metadata": {},
   "outputs": [],
   "source": [
    "path=machine.move_to(bin_pose,0,True)\n",
    "machine.execute(path)"
   ]
  },
  {
   "cell_type": "code",
   "execution_count": null,
   "metadata": {},
   "outputs": [],
   "source": [
    "machine.grasp(machine.objs['small_container0'])"
   ]
  },
  {
   "cell_type": "code",
   "execution_count": null,
   "metadata": {},
   "outputs": [],
   "source": [
    "r = R.from_quat(bin_pose[3:])\n",
    "r2 = R.from_euler('z', 90, degrees=True)\n",
    "r3 = r2 * r\n",
    "r3.as_euler('xyz', degrees=True)"
   ]
  },
  {
   "cell_type": "code",
   "execution_count": null,
   "metadata": {},
   "outputs": [],
   "source": [
    "r3.as_euler('xyz', degrees=True)"
   ]
  },
  {
   "cell_type": "code",
   "execution_count": null,
   "metadata": {},
   "outputs": [],
   "source": [
    "r.as_euler('xyz', degrees=True)"
   ]
  },
  {
   "cell_type": "code",
   "execution_count": null,
   "metadata": {},
   "outputs": [],
   "source": [
    "bin_pose = machine.objs['large_container'].get_pose()\n",
    "bin_pose[2] += 0.4"
   ]
  },
  {
   "cell_type": "code",
   "execution_count": null,
   "metadata": {},
   "outputs": [],
   "source": [
    "path=machine.move_to(bin_pose,0,True)\n",
    "machine.execute(path)"
   ]
  },
  {
   "cell_type": "code",
   "execution_count": null,
   "metadata": {},
   "outputs": [],
   "source": [
    "path=machine.env._robot.arm.get_path(np.array(bin_pose[0:3]),euler=[0, np.pi, 0], trials=1000,ignore_collisions=True, algorithm=Algos.RRTConnect)    "
   ]
  },
  {
   "cell_type": "code",
   "execution_count": null,
   "metadata": {},
   "outputs": [],
   "source": [
    "machine.execute(path)"
   ]
  },
  {
   "cell_type": "code",
   "execution_count": null,
   "metadata": {},
   "outputs": [],
   "source": []
  },
  {
   "cell_type": "code",
   "execution_count": null,
   "metadata": {},
   "outputs": [],
   "source": []
  },
  {
   "cell_type": "code",
   "execution_count": null,
   "metadata": {},
   "outputs": [],
   "source": [
    "# Reset\n",
    "machine.move_objects_to_target(machine.start_bins, machine.target_bins)"
   ]
  }
 ],
 "metadata": {
  "kernelspec": {
   "display_name": "Python 3",
   "language": "python",
   "name": "python3"
  },
  "language_info": {
   "codemirror_mode": {
    "name": "ipython",
    "version": 3
   },
   "file_extension": ".py",
   "mimetype": "text/x-python",
   "name": "python",
   "nbconvert_exporter": "python",
   "pygments_lexer": "ipython3",
   "version": "3.6.10"
  }
 },
 "nbformat": 4,
 "nbformat_minor": 2
}
