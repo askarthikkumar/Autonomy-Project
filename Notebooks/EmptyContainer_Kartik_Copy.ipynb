{
 "cells": [
  {
   "cell_type": "code",
   "execution_count": 1,
   "metadata": {},
   "outputs": [],
   "source": [
    "import numpy as np\n",
    "import scipy as sp\n",
    "\n",
    "from scipy.spatial.transform import Rotation\n",
    "from quaternion import from_rotation_matrix, quaternion, from_euler_angles\n",
    "import quaternion as qn # uses (w,x,y,z)\n",
    "from rlbench.environment import Environment # uses(x,y,z,w)\n",
    "from rlbench.action_modes import ArmActionMode, ActionMode\n",
    "from rlbench.observation_config import ObservationConfig\n",
    "from rlbench.tasks import *\n",
    "\n",
    "from pyrep.const import ConfigurationPathAlgorithms as Algos"
   ]
  },
  {
   "cell_type": "markdown",
   "metadata": {},
   "source": [
    "# Problem Statement"
   ]
  },
  {
   "cell_type": "code",
   "execution_count": 2,
   "metadata": {},
   "outputs": [],
   "source": [
    "def skew(x):\n",
    "    return np.array([[0, -x[2], x[1]],\n",
    "                    [x[2], 0, -x[0]],\n",
    "                    [-x[1], x[0], 0]])\n",
    "\n",
    "\n",
    "def sample_normal_pose(pos_scale, rot_scale):\n",
    "    '''\n",
    "    Samples a 6D pose from a zero-mean isotropic normal distribution\n",
    "    '''\n",
    "    pos = np.random.normal(scale=pos_scale)\n",
    "        \n",
    "    eps = skew(np.random.normal(scale=rot_scale))\n",
    "    R = sp.linalg.expm(eps)\n",
    "    quat_wxyz = from_rotation_matrix(R)\n",
    "\n",
    "    return pos, quat_wxyz\n",
    "\n",
    "\n",
    "class RandomAgent:\n",
    "\n",
    "    def act(self, obs):\n",
    "        delta_pos = [(np.random.rand() * 2 - 1) * 0.005, 0, 0]\n",
    "        delta_quat = [0, 0, 0, 1] # xyzw\n",
    "        gripper_pos = [np.random.rand() > 0.5]\n",
    "        return delta_pos + delta_quat + gripper_pos\n",
    "\n",
    "\n",
    "class NoisyObjectPoseSensor:\n",
    "\n",
    "    def __init__(self, env):\n",
    "        self._env = env\n",
    "\n",
    "        self._pos_scale = [1e-10] * 3 #[0.005, 0.005, 0.005] \n",
    "        self._rot_scale = [1e-10] * 3 #[0.01] * 3\n",
    "\n",
    "    def get_poses(self):\n",
    "        objs = self._env._scene._active_task.get_base().get_objects_in_tree(exclude_base=True, first_generation_only=False)\n",
    "        obj_poses = {}\n",
    "\n",
    "        for obj in objs:\n",
    "            name = obj.get_name()\n",
    "            pose = obj.get_pose()\n",
    "\n",
    "            pos, quat_wxyz = sample_normal_pose(self._pos_scale, self._rot_scale)\n",
    "            gt_quat_wxyz = quaternion(pose[6], pose[3], pose[4], pose[5])\n",
    "            perturbed_quat_wxyz = quat_wxyz * gt_quat_wxyz\n",
    "\n",
    "            pose[:3] += pos\n",
    "            pose[3:] = [perturbed_quat_wxyz.x, perturbed_quat_wxyz.y, perturbed_quat_wxyz.z, perturbed_quat_wxyz.w]\n",
    "\n",
    "            obj_poses[name] = pose\n",
    "\n",
    "        return obj_poses\n"
   ]
  },
  {
   "cell_type": "markdown",
   "metadata": {},
   "source": [
    "## Helper Functions"
   ]
  },
  {
   "cell_type": "code",
   "execution_count": 3,
   "metadata": {},
   "outputs": [],
   "source": [
    "def contains(r1, r2):\n",
    "    #whether r2 is within r1\n",
    "    return r1[0] < r2[0] < r2[1] < r1[1] and r1[2] < r2[2] < r2[3] < r1[3] and r1[4] < r2[4] < r2[5] < r1[5]\n",
    "\n",
    "def get_edge_points(obj_bbox,obj_mat):\n",
    "    bbox_faceedge=np.array([[obj_bbox[0],0,0],\n",
    "    [obj_bbox[1],0,0],\n",
    "    [0,obj_bbox[2],0],\n",
    "    [0,obj_bbox[3],0],\n",
    "    [0,0,obj_bbox[4]],\n",
    "    [0,0,obj_bbox[5]]]).T #3x6\n",
    "    bbox_faceedge=np.vstack((bbox_faceedge,np.ones((1,6)))) #4x6\n",
    "    box=(obj_mat@bbox_faceedge).T #6X3 face edge coords in world frame\n",
    "    rect=min(box[:,0]),max(box[:,0]),min(box[:,1]),max(box[:,1]),min(box[:,2]),max(box[:,2]) #max/min along x,y,z world axes\n",
    "    return rect"
   ]
  },
  {
   "cell_type": "code",
   "execution_count": 4,
   "metadata": {},
   "outputs": [],
   "source": [
    "class StateMachine(object):\n",
    "    def __init__(self):\n",
    "        self.env=None\n",
    "        self.home=None\n",
    "        self.task=None\n",
    "        self.sensor=None\n",
    "        self.objs_dict=None\n",
    "        \n",
    "    def initialize(self):\n",
    "        DATASET = ''\n",
    "        obs_config = ObservationConfig()\n",
    "        obs_config.set_all(True)\n",
    "        obs_config.left_shoulder_camera.rgb = True\n",
    "        obs_config.right_shoulder_camera.rgb = True\n",
    "        action_mode = ActionMode(ArmActionMode.ABS_EE_POSE_PLAN)\n",
    "        self.env = Environment(\n",
    "            action_mode, DATASET, obs_config, False)\n",
    "        self.sensor = NoisyObjectPoseSensor(self.env)\n",
    "        self.env.launch()\n",
    "        self.task = self.env.get_task(EmptyContainer)\n",
    "        self.task.reset()\n",
    "        self.home = self.get_objects()['large_container'].get_pose()\n",
    "        self.home[2]+=0.3\n",
    "        # demos = task.get_demos(3, live_demos=live_demos)\n",
    "        \n",
    "        self.objs = self.get_objects()\n",
    "        self.movable_objects = ['Shape', 'Shape1', 'Shape3']\n",
    "        self.target_bins = ['small_container0']\n",
    "        self.start_bins = ['large_container']\n",
    "        self.max_retry = 5\n",
    "        self.env._robot.gripper.set_joint_forces([50,50])\n",
    "        \n",
    "        \n",
    "    def get_objects(self, graspable=False):\n",
    "        if graspable:\n",
    "            objs = self.task._task.get_graspable_objects()\n",
    "            objs_dict = {}\n",
    "            for item in objs:\n",
    "                name = item.get_name()\n",
    "                objs_dict[name] = item\n",
    "            return objs_dict\n",
    "        else:\n",
    "            objs = self.env._scene._active_task.get_base().get_objects_in_tree(exclude_base=True, first_generation_only=False)\n",
    "            objs_dict = {}\n",
    "            for obj in objs:\n",
    "                name = obj.get_name()\n",
    "                objs_dict[name] = obj\n",
    "            return objs_dict\n",
    "\n",
    "    # Move above object\n",
    "    def move_to(self, pose, pad=0.05, ignore_collisions=True, quat=np.array([0,1,0,0])):\n",
    "        target_pose = np.copy(pose)\n",
    "        obs = self.env._scene.get_observation()\n",
    "        init_pose=obs.gripper_pose\n",
    "        obs = self.env._scene.get_observation()\n",
    "        init_pose=obs.gripper_pose\n",
    "        target_pose[2]+=pad\n",
    "        print(\"Quaternion is\",quat)\n",
    "        path=self.env._robot.arm.get_path(np.array(target_pose[0:3]),quaternion=quat, trials=1000,ignore_collisions=True, algorithm=Algos.RRTConnect)\n",
    "        # TODO catch errors and deal with situations when path not found\n",
    "        return path\n",
    "    \n",
    "    def grasp(self,obj):\n",
    "        # open the grippers\n",
    "        cond=False\n",
    "        while not cond:\n",
    "            cond=self.env._robot.gripper.actuate(1,0.1)\n",
    "            self.env._scene.step()\n",
    "        cond=False\n",
    "        # now close\n",
    "        while not cond:\n",
    "            cond=self.env._robot.gripper.actuate(0,0.1)\n",
    "            self.env._scene.step()\n",
    "        cond = self.env._robot.gripper.grasp(obj)\n",
    "        return cond\n",
    "    \n",
    "    def release(self, obj):\n",
    "        cond=False\n",
    "        while not cond:\n",
    "            cond=self.env._robot.gripper.actuate(1,0.1)\n",
    "            self.env._scene.step()\n",
    "        self.env._robot.gripper.release()\n",
    "    \n",
    "    def execute(self, path):\n",
    "        done=False\n",
    "        path.set_to_start()\n",
    "        while not done:\n",
    "            done = path.step()\n",
    "            a = path.visualize()\n",
    "            self.env._scene.step()\n",
    "        return done\n",
    "    \n",
    "    def reset(self):\n",
    "        self.task.reset()\n",
    "    \n",
    "    \n",
    "    def is_within(self,obj1,obj2):\n",
    "        #whether obj2 is within obj1\n",
    "        obj1_bbox=obj1.get_bounding_box();obj1_mat=np.array(obj1.get_matrix()).reshape(3,4);\n",
    "        obj2_bbox=obj2.get_bounding_box();obj2_mat=np.array(obj2.get_matrix()).reshape(3,4);\n",
    "        obj1_rect= get_edge_points(obj1_bbox,obj1_mat)\n",
    "        obj2_rect= get_edge_points(obj2_bbox,obj2_mat)\n",
    "        return contains(obj1_rect,obj2_rect)\n",
    "    \n",
    "    def picking_bin_empty(self):\n",
    "        '''\n",
    "         Returns whether the picking bin is empty\n",
    "        '''\n",
    "        self.objs_dict=machine.get_objects()\n",
    "        bin_obj=self.objs_dict['large_container'] #?Which one\n",
    "        for obj_name in self.objs_dict.keys():\n",
    "            if (not ('container' in obj_name)):\n",
    "                if self.is_within(bin_obj,self.objs_dict[obj_name]):\n",
    "                    return False\n",
    "        return True\n",
    "    def placing_bin_full(self):\n",
    "        '''\n",
    "         Returns whether the placing bin is full\n",
    "        '''\n",
    "        self.objs_dict=machine.get_objects()\n",
    "        bin_obj=self.objs_dict['small_container1'] #?Which one\n",
    "        for obj_name in self.objs_dict.keys():\n",
    "            if (not ('container' in obj_name)):\n",
    "                if not (self.is_within(bin_obj,self.objs_dict[obj_name])):\n",
    "                    return False\n",
    "        return True\n",
    "    \n",
    "    def get_all_shapes(self):\n",
    "        objects = []\n",
    "\n",
    "        for name in self.objs:\n",
    "            if \"Shape\" in name:\n",
    "                objects.append(name)\n",
    "\n",
    "        print(objects)\n",
    "        return objects\n",
    "    \n",
    "    def get_grasp_pose(self, cnt):\n",
    "        q = quaternion(0,1,0,0)\n",
    "        theta = 2*np.pi*cnt/self.max_retry\n",
    "        cos = np.cos(theta/2)\n",
    "        sin = np.sin(theta/2)\n",
    "        p = quaternion(cos,0,0,sin)\n",
    "        rot_qt = p*q\n",
    "        print(\"Theta\",rot_qt,cos,sin,theta/2)\n",
    "        rot_arr = qn.as_float_array(rot_qt)\n",
    "        rot_qt = [rot_arr[1], rot_arr[2], rot_arr[3], rot_arr[0]]\n",
    "        return rot_qt\n",
    "        \n",
    "    def move_objects_to_target(self, target_bins, start_bins):\n",
    "        \n",
    "        target_bin = target_bins[0]\n",
    "        start_bin = start_bins[0]\n",
    "        \n",
    "        start_bin_pose = self.objs[start_bin].get_pose()\n",
    "        start_bin_pose[2]+=0.3\n",
    "\n",
    "        target_bin_pose = self.objs[target_bin].get_pose()\n",
    "        target_bin_pose[2]+=0.3\n",
    "\n",
    "        '''\n",
    "        move_objs = []\n",
    "        for obj in machine.movable_objects:\n",
    "            if self.is_within(target_bin, obj):\n",
    "                move_objs.append(obj)\n",
    "        print(move_objs)\n",
    "        '''\n",
    "        move_objs = machine.movable_objects\n",
    "    \n",
    "        for shape in move_objs:\n",
    "            \n",
    "            cond = False\n",
    "            retry_count = 0\n",
    "            while not cond and retry_count < self.max_retry:\n",
    "                quat = self.get_grasp_pose(retry_count)\n",
    "                # go back to home position\n",
    "                path=machine.move_to(start_bin_pose,0,True)\n",
    "                machine.execute(path)\n",
    "\n",
    "                # move above object\n",
    "                objs_poses = machine.sensor.get_poses()\n",
    "                # pose=objs[shape].get_pose()\n",
    "                pose=objs_poses[shape]\n",
    "                path=machine.move_to(pose,False, quat=quat)\n",
    "                machine.execute(path)\n",
    "\n",
    "                # grasp the object\n",
    "                cond = machine.grasp(self.objs[shape])\n",
    "                \n",
    "                if not cond:\n",
    "                    retry_count += 1\n",
    "                    print(\"retry count: \", retry_count)\n",
    "\n",
    "            # move to home position\n",
    "            path=machine.move_to(start_bin_pose,0,True)\n",
    "            machine.execute(path)\n",
    "            print(\"Gripper joint forces\",self.env._robot.gripper.get_joint_forces())\n",
    "            # move above small container\n",
    "            objs_poses=machine.sensor.get_poses()\n",
    "            pose = objs_poses[target_bin]\n",
    "            path=machine.move_to(pose,0.05,True)\n",
    "            machine.execute(path)\n",
    "\n",
    "            # release the object\n",
    "            machine.release(self.objs[shape])\n",
    "        \n",
    "        path=machine.move_to(machine.home,0,True)\n",
    "        machine.execute(path)"
   ]
  },
  {
   "cell_type": "code",
   "execution_count": 5,
   "metadata": {},
   "outputs": [],
   "source": [
    "machine = StateMachine()\n",
    "machine.initialize()"
   ]
  },
  {
   "cell_type": "code",
   "execution_count": 26,
   "metadata": {},
   "outputs": [],
   "source": [
    "machine.task.reset()\n",
    "objs = machine.get_objects()\n",
    "pose = objs[\"Shape1\"].get_pose()\n",
    "pose[3:] = [0,1,0,0]\n",
    "wp = pose.tolist()+[1]\n",
    "obs,rew,term = machine.task.step(wp)"
   ]
  },
  {
   "cell_type": "code",
   "execution_count": 27,
   "metadata": {},
   "outputs": [],
   "source": [
    "obs,rew,term = machine.task.step(wp)"
   ]
  },
  {
   "cell_type": "code",
   "execution_count": 28,
   "metadata": {},
   "outputs": [
    {
     "data": {
      "text/plain": [
       "array([ 3.55714530e-01,  1.42992839e-01,  7.57863045e-01, -1.48764073e-07,\n",
       "        9.99999642e-01, -2.49728415e-04, -8.72455072e-04])"
      ]
     },
     "execution_count": 28,
     "metadata": {},
     "output_type": "execute_result"
    }
   ],
   "source": [
    "obs.gripper_pose"
   ]
  },
  {
   "cell_type": "code",
   "execution_count": 35,
   "metadata": {},
   "outputs": [],
   "source": [
    "obs1 = machine.env._scene.get_observation()"
   ]
  },
  {
   "cell_type": "code",
   "execution_count": 39,
   "metadata": {},
   "outputs": [
    {
     "data": {
      "text/plain": [
       "array([ 1.82135997e-03,  1.63882978e-05, -4.11868086e-06,  1.82035717e-03,\n",
       "       -1.63957484e-05,  4.22894936e-06])"
      ]
     },
     "execution_count": 39,
     "metadata": {},
     "output_type": "execute_result"
    }
   ],
   "source": [
    "obs1.gripper_touch_forces"
   ]
  },
  {
   "cell_type": "code",
   "execution_count": 29,
   "metadata": {},
   "outputs": [
    {
     "data": {
      "text/plain": [
       "array([ 3.55880380e-01,  1.45038828e-01,  8.49930048e-01,  9.99999642e-01,\n",
       "        2.38418579e-07, -8.71970784e-04,  2.49873498e-04])"
      ]
     },
     "execution_count": 29,
     "metadata": {},
     "output_type": "execute_result"
    }
   ],
   "source": [
    "machine.env._robot.gripper.get_pose()"
   ]
  },
  {
   "cell_type": "code",
   "execution_count": 15,
   "metadata": {},
   "outputs": [],
   "source": [
    "a = objs[\"Shape1\"].get_pose()"
   ]
  },
  {
   "cell_type": "code",
   "execution_count": 17,
   "metadata": {},
   "outputs": [],
   "source": [
    "a[3:] = [0,1,0,0]"
   ]
  },
  {
   "cell_type": "code",
   "execution_count": 20,
   "metadata": {},
   "outputs": [
    {
     "data": {
      "text/plain": [
       "[0.25217404961586,\n",
       " 0.005926921963691711,\n",
       " 0.7653942108154297,\n",
       " 0.0,\n",
       " 1.0,\n",
       " 0.0,\n",
       " 0.0,\n",
       " 0]"
      ]
     },
     "execution_count": 20,
     "metadata": {},
     "output_type": "execute_result"
    }
   ],
   "source": [
    "a.tolist()+[0]"
   ]
  },
  {
   "cell_type": "code",
   "execution_count": 11,
   "metadata": {},
   "outputs": [],
   "source": [
    "machine.env._scene.step()"
   ]
  },
  {
   "cell_type": "code",
   "execution_count": 6,
   "metadata": {},
   "outputs": [
    {
     "name": "stdout",
     "output_type": "stream",
     "text": [
      "Theta quaternion(0, 1, 0, 0) 1.0 0.0 0.0\n",
      "Quaternion is [0 1 0 0]\n",
      "Quaternion is [1.0, 0.0, 0.0, 0.0]\n",
      "Quaternion is [0 1 0 0]\n",
      "Gripper joint forces [1.8426796197891235, 2.938326358795166]\n",
      "Quaternion is [0 1 0 0]\n",
      "Theta quaternion(0, 1, 0, 0) 1.0 0.0 0.0\n",
      "Quaternion is [0 1 0 0]\n",
      "Quaternion is [1.0, 0.0, 0.0, 0.0]\n",
      "Quaternion is [0 1 0 0]\n",
      "Gripper joint forces [0.26096290349960327, 0.34228673577308655]\n",
      "Quaternion is [0 1 0 0]\n",
      "Theta quaternion(0, 1, 0, 0) 1.0 0.0 0.0\n",
      "Quaternion is [0 1 0 0]\n",
      "Quaternion is [1.0, 0.0, 0.0, 0.0]\n",
      "Quaternion is [0 1 0 0]\n",
      "Gripper joint forces [3.7702088356018066, 8.269516944885254]\n",
      "Quaternion is [0 1 0 0]\n",
      "Quaternion is [0 1 0 0]\n"
     ]
    }
   ],
   "source": [
    "machine.move_objects_to_target(machine.target_bins, machine.start_bins)"
   ]
  },
  {
   "cell_type": "code",
   "execution_count": 7,
   "metadata": {},
   "outputs": [
    {
     "name": "stdout",
     "output_type": "stream",
     "text": [
      "Theta quaternion(0, 1, 0, 0) 1.0 0.0 0.0\n",
      "Quaternion is [0 1 0 0]\n",
      "Quaternion is [1.0, 0.0, 0.0, 0.0]\n",
      "Quaternion is [0 1 0 0]\n",
      "Gripper joint forces [3.6764233112335205, 3.8636322021484375]\n",
      "Quaternion is [0 1 0 0]\n",
      "Theta quaternion(0, 1, 0, 0) 1.0 0.0 0.0\n",
      "Quaternion is [0 1 0 0]\n",
      "Quaternion is [1.0, 0.0, 0.0, 0.0]\n",
      "retry count:  1\n",
      "Theta quaternion(0, 0.809016994374947, 0.587785252292473, 0) 0.8090169943749475 0.5877852522924731 0.6283185307179586\n",
      "Quaternion is [0 1 0 0]\n",
      "Quaternion is [0.8090169943749475, 0.5877852522924731, 0.0, 0.0]\n",
      "Quaternion is [0 1 0 0]\n",
      "Gripper joint forces [3.0621867179870605, 4.588660717010498]\n",
      "Quaternion is [0 1 0 0]\n",
      "Theta quaternion(0, 1, 0, 0) 1.0 0.0 0.0\n",
      "Quaternion is [0 1 0 0]\n",
      "Quaternion is [1.0, 0.0, 0.0, 0.0]\n",
      "Quaternion is [0 1 0 0]\n",
      "Gripper joint forces [0.00606171227991581, 0.028237368911504745]\n",
      "Quaternion is [0 1 0 0]\n",
      "Quaternion is [0 1 0 0]\n"
     ]
    }
   ],
   "source": [
    "machine.move_objects_to_target(machine.start_bins, machine.target_bins)"
   ]
  }
 ],
 "metadata": {
  "kernelspec": {
   "display_name": "Python 3",
   "language": "python",
   "name": "python3"
  },
  "language_info": {
   "codemirror_mode": {
    "name": "ipython",
    "version": 3
   },
   "file_extension": ".py",
   "mimetype": "text/x-python",
   "name": "python",
   "nbconvert_exporter": "python",
   "pygments_lexer": "ipython3",
   "version": "3.7.3"
  }
 },
 "nbformat": 4,
 "nbformat_minor": 2
}
