{
 "cells": [
  {
   "cell_type": "code",
   "execution_count": 1,
   "metadata": {},
   "outputs": [],
   "source": [
    "from rlbench.environment import Environment\n",
    "from rlbench.action_modes import ArmActionMode, ActionMode\n",
    "from rlbench.observation_config import ObservationConfig\n",
    "from rlbench.tasks import *\n",
    "import numpy as np\n",
    "from pyrep.const import ConfigurationPathAlgorithms as Algos\n",
    "import scipy as sp\n",
    "from quaternion import from_rotation_matrix, quaternion\n",
    "from scipy.spatial.transform import Rotation"
   ]
  },
  {
   "cell_type": "code",
   "execution_count": 2,
   "metadata": {},
   "outputs": [],
   "source": [
    "def skew(x):\n",
    "    return np.array([[0, -x[2], x[1]],\n",
    "                    [x[2], 0, -x[0]],\n",
    "                    [-x[1], x[0], 0]])\n",
    "\n",
    "\n",
    "def sample_normal_pose(pos_scale, rot_scale):\n",
    "    '''\n",
    "    Samples a 6D pose from a zero-mean isotropic normal distribution\n",
    "    '''\n",
    "    pos = np.random.normal(scale=pos_scale)\n",
    "        \n",
    "    eps = skew(np.random.normal(scale=rot_scale))\n",
    "    R = sp.linalg.expm(eps)\n",
    "    quat_wxyz = from_rotation_matrix(R)\n",
    "\n",
    "    return pos, quat_wxyz\n",
    "\n",
    "\n",
    "class RandomAgent:\n",
    "\n",
    "    def act(self, obs):\n",
    "        delta_pos = [(np.random.rand() * 2 - 1) * 0.005, 0, 0]\n",
    "        delta_quat = [0, 0, 0, 1] # xyzw\n",
    "        gripper_pos = [np.random.rand() > 0.5]\n",
    "        return delta_pos + delta_quat + gripper_pos\n",
    "\n",
    "\n",
    "class NoisyObjectPoseSensor:\n",
    "\n",
    "    def __init__(self, env):\n",
    "        self._env = env\n",
    "\n",
    "        self._pos_scale = [0.005, 0.005, 0.005]\n",
    "        self._rot_scale = [0.01] * 3\n",
    "\n",
    "    def get_poses(self):\n",
    "        objs = self._env._scene._active_task.get_base().get_objects_in_tree(exclude_base=True, first_generation_only=False)\n",
    "        obj_poses = {}\n",
    "\n",
    "        for obj in objs:\n",
    "            name = obj.get_name()\n",
    "            pose = obj.get_pose()\n",
    "\n",
    "            pos, quat_wxyz = sample_normal_pose(self._pos_scale, self._rot_scale)\n",
    "            gt_quat_wxyz = quaternion(pose[6], pose[3], pose[4], pose[5])\n",
    "            perturbed_quat_wxyz = quat_wxyz * gt_quat_wxyz\n",
    "\n",
    "            pose[:3] += pos\n",
    "            pose[3:] = [perturbed_quat_wxyz.x, perturbed_quat_wxyz.y, perturbed_quat_wxyz.z, perturbed_quat_wxyz.w]\n",
    "\n",
    "            obj_poses[name] = pose\n",
    "\n",
    "        return obj_poses\n"
   ]
  },
  {
   "cell_type": "code",
   "execution_count": 3,
   "metadata": {},
   "outputs": [],
   "source": [
    "def contains(r1, r2):\n",
    "    #whether r2 is within r1\n",
    "    return r1[0] < r2[0] < r2[1] < r1[1] and r1[2] < r2[2] < r2[3] < r1[3] and r1[4] < r2[4] < r2[5] < r1[5]\n",
    "\n",
    "def get_edge_points(obj_bbox,obj_mat):\n",
    "    bbox_faceedge=np.array([[obj_bbox[0],0,0],\n",
    "    [obj_bbox[1],0,0],\n",
    "    [0,obj_bbox[2],0],\n",
    "    [0,obj_bbox[3],0],\n",
    "    [0,0,obj_bbox[4]],\n",
    "    [0,0,obj_bbox[5]]]).T #3x6\n",
    "    bbox_faceedge=np.vstack((bbox_faceedge,np.ones((1,6)))) #4x6\n",
    "    box=(obj_mat@bbox_faceedge).T #6X3 face edge coords in world frame\n",
    "    rect=min(box[:,0]),max(box[:,0]),min(box[:,1]),max(box[:,1]),min(box[:,2]),max(box[:,2]) #max/min along x,y,z world axes\n",
    "    return rect"
   ]
  },
  {
   "cell_type": "code",
   "execution_count": 4,
   "metadata": {},
   "outputs": [],
   "source": [
    "class StateMachine(object):\n",
    "    def __init__(self):\n",
    "        self.env=None\n",
    "        self.home=None\n",
    "        self.task=None\n",
    "        self.sensor=None\n",
    "        self.objs_dict=None\n",
    "        \n",
    "    def initialize(self):\n",
    "        DATASET = ''\n",
    "        obs_config = ObservationConfig()\n",
    "        obs_config.set_all(True)\n",
    "        obs_config.left_shoulder_camera.rgb = True\n",
    "        obs_config.right_shoulder_camera.rgb = True\n",
    "        action_mode = ActionMode(ArmActionMode.ABS_JOINT_POSITION)\n",
    "        self.env = Environment(\n",
    "            action_mode, DATASET, obs_config, False)\n",
    "        self.sensor = NoisyObjectPoseSensor(self.env)\n",
    "        self.env.launch()\n",
    "        self.task = self.env.get_task(PutGroceriesInCupboard)\n",
    "        self.task.reset()\n",
    "        self.home = self.env._scene.get_observation().gripper_pose\n",
    "        self.home[2]+=0.3\n",
    "        # demos = task.get_demos(3, live_demos=live_demos)\n",
    "        \n",
    "    def get_objects(self):\n",
    "        objs = self.env._scene._active_task.get_base().get_objects_in_tree(exclude_base=True, first_generation_only=False)\n",
    "        objs_dict = {}\n",
    "        for obj in objs:\n",
    "            name = obj.get_name()\n",
    "            pose = obj.get_pose()\n",
    "            objs_dict[name] = obj\n",
    "        return objs_dict\n",
    "\n",
    "    # Move above object\n",
    "    def move_to(self, pose, pad=0.05, ig=True):\n",
    "        print(ig)\n",
    "        target_pose = np.copy(pose)\n",
    "        obs = self.env._scene.get_observation()\n",
    "        init_pose=obs.gripper_pose\n",
    "        obs = self.env._scene.get_observation()\n",
    "        init_pose=obs.gripper_pose\n",
    "        target_pose[2]+=pad\n",
    "        path=self.env._robot.arm.get_path(np.array(target_pose[0:3]),quaternion=np.array([0,1,0,0]), trials=1000,ignore_collisions=ig, algorithm=Algos.RRTConnect)\n",
    "        # TODO catch errors and deal with situations when path not found\n",
    "        return path\n",
    "    \n",
    "    def grasp(self,obj):\n",
    "        # TODO get feedback to check if grasp is successful\n",
    "        cond=False\n",
    "        while not cond:\n",
    "            cond=self.env._robot.gripper.actuate(0,2)\n",
    "            self.env._scene.step()\n",
    "            print(\"Grasping\")\n",
    "        cond = self.env._robot.gripper.grasp(obj)\n",
    "        return cond\n",
    "    \n",
    "    def release(self, obj):\n",
    "        cond=False\n",
    "        while not cond:\n",
    "            cond=self.env._robot.gripper.actuate(1,0.1)\n",
    "            self.env._scene.step()\n",
    "        self.env._robot.gripper.release()\n",
    "    \n",
    "    def execute(self, path):\n",
    "        done=False\n",
    "        path.set_to_start()\n",
    "        while not done:\n",
    "            done = path.step()\n",
    "            a = path.visualize()\n",
    "            self.env._scene.step()\n",
    "        return done\n",
    "    \n",
    "    def reset(self):\n",
    "        self.task.reset()\n",
    "    \n",
    "    \n",
    "    def is_within(self,obj1,obj2):\n",
    "        #whether obj2 is within obj1\n",
    "        obj1_bbox=obj1.get_bounding_box();obj1_mat=np.array(obj1.get_matrix()).reshape(3,4);\n",
    "        obj2_bbox=obj2.get_bounding_box();obj2_mat=np.array(obj2.get_matrix()).reshape(3,4);\n",
    "        obj1_rect= get_edge_points(obj1_bbox,obj1_mat)\n",
    "        obj2_rect= get_edge_points(obj2_bbox,obj2_mat)\n",
    "        return contains(obj1_rect,obj2_rect)\n",
    "    \n",
    "    def picking_bin_empty(self):\n",
    "        '''\n",
    "         Returns whether the picking bin is empty\n",
    "        '''\n",
    "        self.objs_dict=machine.get_objects()\n",
    "        bin_obj=self.objs_dict['large_container'] #?Which one\n",
    "        for obj_name in self.objs_dict.keys():\n",
    "            if (not ('container' in obj_name)):\n",
    "                if self.is_within(bin_obj,self.objs_dict[obj_name]):\n",
    "                    return False\n",
    "        return True\n",
    "    def placing_bin_full(self):\n",
    "        '''\n",
    "         Returns whether the placing bin is full\n",
    "        '''\n",
    "        self.objs_dict=machine.get_objects()\n",
    "        bin_obj=self.objs_dict['small_container1'] #?Which one\n",
    "        for obj_name in self.objs_dict.keys():\n",
    "            if (not ('container' in obj_name)):\n",
    "                if not (self.is_within(bin_obj,self.objs_dict[obj_name])):\n",
    "                    return False\n",
    "        return True\n",
    "    "
   ]
  },
  {
   "cell_type": "code",
   "execution_count": 5,
   "metadata": {},
   "outputs": [
    {
     "name": "stderr",
     "output_type": "stream",
     "text": [
      "/home/arcot/.local/lib/python3.7/site-packages/pyrep/pyrep.py:209: UserWarning: Could not change simulation timestep. You may need to change it to \"custom dt\" using simulation settings dialog.\n",
      "  warnings.warn('Could not change simulation timestep. You may need '\n"
     ]
    }
   ],
   "source": [
    "machine = StateMachine()\n",
    "machine.initialize()"
   ]
  },
  {
   "cell_type": "code",
   "execution_count": 67,
   "metadata": {},
   "outputs": [
    {
     "name": "stdout",
     "output_type": "stream",
     "text": [
      "True\n"
     ]
    }
   ],
   "source": [
    "machine.reset()\n",
    "objects = ['soup_grasp_point']\n",
    "for shape in objects:\n",
    "    # move above object\n",
    "    objs=machine.get_objects()\n",
    "    objs_poses=machine.sensor.get_poses()\n",
    "    # pose=objs[shape].get_pose()\n",
    "    pose=objs_poses[shape]\n",
    "    path=machine.move_to(pose,False)\n",
    "    machine.execute(path)\n",
    "    # grasp the object"
   ]
  },
  {
   "cell_type": "code",
   "execution_count": 54,
   "metadata": {},
   "outputs": [],
   "source": [
    "g = machine.env._robot.gripper"
   ]
  },
  {
   "cell_type": "code",
   "execution_count": 155,
   "metadata": {},
   "outputs": [
    {
     "data": {
      "text/plain": [
       "[-0.08085033297538757, 0.08105567842721939]"
      ]
     },
     "execution_count": 155,
     "metadata": {},
     "output_type": "execute_result"
    }
   ],
   "source": [
    "g.get_joint_forces()"
   ]
  },
  {
   "cell_type": "code",
   "execution_count": 25,
   "metadata": {},
   "outputs": [
    {
     "name": "stdout",
     "output_type": "stream",
     "text": [
      "Grasping\n",
      "Grasping\n",
      "Grasping\n",
      "Grasping\n",
      "Grasping\n",
      "Grasping\n",
      "Grasping\n"
     ]
    },
    {
     "data": {
      "text/plain": [
       "True"
      ]
     },
     "execution_count": 25,
     "metadata": {},
     "output_type": "execute_result"
    }
   ],
   "source": [
    "machine.grasp(objs[\"soup\"])"
   ]
  },
  {
   "cell_type": "code",
   "execution_count": 26,
   "metadata": {},
   "outputs": [
    {
     "data": {
      "text/plain": [
       "[27.06987953186035, 23.386653900146484]"
      ]
     },
     "execution_count": 26,
     "metadata": {},
     "output_type": "execute_result"
    }
   ],
   "source": [
    "g.get_joint_forces()"
   ]
  },
  {
   "cell_type": "code",
   "execution_count": 72,
   "metadata": {},
   "outputs": [
    {
     "name": "stdout",
     "output_type": "stream",
     "text": [
      "True\n"
     ]
    }
   ],
   "source": [
    "pose = machine.env._scene.get_observation().gripper_pose\n",
    "pose[2]+=0.1\n",
    "path = machine.move_to(pose,False)"
   ]
  },
  {
   "cell_type": "code",
   "execution_count": 73,
   "metadata": {},
   "outputs": [
    {
     "name": "stdout",
     "output_type": "stream",
     "text": [
      "[-0.03523921221494675, 0.033982131630182266]\n",
      "[0.03376701474189758, -0.028164392337203026]\n",
      "[-0.014067116193473339, 0.016644872725009918]\n",
      "[-0.005408613942563534, 0.0027383356355130672]\n",
      "[0.014031345956027508, -0.011700796894729137]\n",
      "[0.06258098781108856, -0.048967793583869934]\n",
      "[-0.40860748291015625, 0.18621185421943665]\n",
      "[-0.12364418804645538, 0.03146675229072571]\n",
      "[-0.2970965504646301, 0.10477574914693832]\n",
      "[-0.18093954026699066, 0.05479971319437027]\n",
      "[-0.19392713904380798, 0.09751023352146149]\n"
     ]
    }
   ],
   "source": [
    "done=False\n",
    "path.set_to_start()\n",
    "while not done:\n",
    "    done = path.step()\n",
    "    a = path.visualize()\n",
    "    machine.env._scene.step()\n",
    "    print(g.get_joint_forces())"
   ]
  },
  {
   "cell_type": "code",
   "execution_count": null,
   "metadata": {},
   "outputs": [],
   "source": [
    "path_ = path._path_points.reshape(-1,path._num_joints)\n",
    "a = np.zeros((path_.shape[0],1))\n",
    "points = np.hstack([path_,a])"
   ]
  },
  {
   "cell_type": "code",
   "execution_count": null,
   "metadata": {},
   "outputs": [],
   "source": [
    "points.shape"
   ]
  },
  {
   "cell_type": "code",
   "execution_count": null,
   "metadata": {},
   "outputs": [],
   "source": [
    "for i in range(len(points)):\n",
    "    machine.task.step(points[i,:])\n",
    "    print(g.get_joint_forces())\n",
    "    machine.env._scene.step()"
   ]
  },
  {
   "cell_type": "code",
   "execution_count": 17,
   "metadata": {},
   "outputs": [
    {
     "data": {
      "text/plain": [
       "[10.181020736694336, 10.585058212280273]"
      ]
     },
     "execution_count": 17,
     "metadata": {},
     "output_type": "execute_result"
    }
   ],
   "source": [
    "g.get_joint_forces()"
   ]
  },
  {
   "cell_type": "code",
   "execution_count": 46,
   "metadata": {},
   "outputs": [],
   "source": [
    "g = machine.env._robot.gripper"
   ]
  },
  {
   "cell_type": "code",
   "execution_count": 24,
   "metadata": {},
   "outputs": [
    {
     "data": {
      "text/plain": [
       "[-0.020189102739095688, 0.020785421133041382]"
      ]
     },
     "execution_count": 24,
     "metadata": {},
     "output_type": "execute_result"
    }
   ],
   "source": [
    "g.get_joint_forces()"
   ]
  },
  {
   "cell_type": "code",
   "execution_count": 55,
   "metadata": {},
   "outputs": [],
   "source": [
    "path._path_points = path_.flatten()"
   ]
  },
  {
   "cell_type": "code",
   "execution_count": 56,
   "metadata": {},
   "outputs": [],
   "source": [
    "done=False\n",
    "while not done:\n",
    "    done = path.step()\n",
    "#     machine.task.step([0,0,0,0,0,0,1,0])\n",
    "    a = path.visualize()\n",
    "    machine.env._scene.step()"
   ]
  },
  {
   "cell_type": "code",
   "execution_count": 6,
   "metadata": {},
   "outputs": [
    {
     "ename": "NameError",
     "evalue": "name 'path' is not defined",
     "output_type": "error",
     "traceback": [
      "\u001b[0;31m---------------------------------------------------------------------------\u001b[0m",
      "\u001b[0;31mNameError\u001b[0m                                 Traceback (most recent call last)",
      "\u001b[0;32m<ipython-input-6-012ab3a6b187>\u001b[0m in \u001b[0;36m<module>\u001b[0;34m\u001b[0m\n\u001b[0;32m----> 1\u001b[0;31m \u001b[0mpath\u001b[0m\u001b[0;34m\u001b[0m\u001b[0;34m\u001b[0m\u001b[0m\n\u001b[0m",
      "\u001b[0;31mNameError\u001b[0m: name 'path' is not defined"
     ]
    }
   ],
   "source": [
    "path"
   ]
  },
  {
   "cell_type": "code",
   "execution_count": 27,
   "metadata": {},
   "outputs": [],
   "source": [
    "g = machine.env._robot.gripper"
   ]
  },
  {
   "cell_type": "code",
   "execution_count": 28,
   "metadata": {},
   "outputs": [
    {
     "data": {
      "text/plain": [
       "[0.002987384796142578, 0.0021278858184814453]"
      ]
     },
     "execution_count": 28,
     "metadata": {},
     "output_type": "execute_result"
    }
   ],
   "source": [
    "g.get_joint_velocities()"
   ]
  },
  {
   "cell_type": "code",
   "execution_count": 35,
   "metadata": {},
   "outputs": [],
   "source": [
    "g.set_joint_target_positions([0,0])"
   ]
  },
  {
   "cell_type": "code",
   "execution_count": 31,
   "metadata": {},
   "outputs": [
    {
     "data": {
      "text/plain": [
       "[0.0, 0.0]"
      ]
     },
     "execution_count": 31,
     "metadata": {},
     "output_type": "execute_result"
    }
   ],
   "source": [
    "g.get_joint_target_positions()"
   ]
  },
  {
   "cell_type": "code",
   "execution_count": null,
   "metadata": {},
   "outputs": [],
   "source": [
    "g.set_joint_forces([30,30])"
   ]
  },
  {
   "cell_type": "code",
   "execution_count": null,
   "metadata": {},
   "outputs": [],
   "source": [
    "machine.env._scene.step()"
   ]
  },
  {
   "cell_type": "code",
   "execution_count": 7,
   "metadata": {},
   "outputs": [
    {
     "ename": "NameError",
     "evalue": "name 'path' is not defined",
     "output_type": "error",
     "traceback": [
      "\u001b[0;31m---------------------------------------------------------------------------\u001b[0m",
      "\u001b[0;31mNameError\u001b[0m                                 Traceback (most recent call last)",
      "\u001b[0;32m<ipython-input-7-012ab3a6b187>\u001b[0m in \u001b[0;36m<module>\u001b[0;34m\u001b[0m\n\u001b[0;32m----> 1\u001b[0;31m \u001b[0mpath\u001b[0m\u001b[0;34m\u001b[0m\u001b[0;34m\u001b[0m\u001b[0m\n\u001b[0m",
      "\u001b[0;31mNameError\u001b[0m: name 'path' is not defined"
     ]
    }
   ],
   "source": [
    "path"
   ]
  },
  {
   "cell_type": "code",
   "execution_count": 25,
   "metadata": {},
   "outputs": [
    {
     "data": {
      "text/plain": [
       "{'chocolate_jello': <pyrep.objects.shape.Shape at 0x7f78a7748390>,\n",
       " 'strawberry_jello': <pyrep.objects.shape.Shape at 0x7f78a7748588>,\n",
       " 'soup': <pyrep.objects.shape.Shape at 0x7f78a7748198>,\n",
       " 'tuna': <pyrep.objects.shape.Shape at 0x7f78a7748278>,\n",
       " 'spam': <pyrep.objects.shape.Shape at 0x7f78a7748358>,\n",
       " 'sugar': <pyrep.objects.shape.Shape at 0x7f78a7748400>,\n",
       " 'coffee': <pyrep.objects.shape.Shape at 0x7f78a77485c0>,\n",
       " 'crackers': <pyrep.objects.shape.Shape at 0x7f78a77484e0>,\n",
       " 'mustard': <pyrep.objects.shape.Shape at 0x7f78d80efc88>,\n",
       " 'waypoint1': <pyrep.objects.dummy.Dummy at 0x7f78a7748748>,\n",
       " 'boundary_root': <pyrep.objects.shape.Shape at 0x7f78d80efba8>,\n",
       " 'chocolate_jello_visual': <pyrep.objects.shape.Shape at 0x7f78d80efbe0>,\n",
       " 'chocolate_jello_grasp_point': <pyrep.objects.dummy.Dummy at 0x7f78d80efef0>,\n",
       " 'strawberry_jello_visual': <pyrep.objects.shape.Shape at 0x7f78d80efb00>,\n",
       " 'strawberry_jello_grasp_point': <pyrep.objects.dummy.Dummy at 0x7f78d80efe10>,\n",
       " 'soup_visual': <pyrep.objects.shape.Shape at 0x7f78d80efe80>,\n",
       " 'soup_grasp_point': <pyrep.objects.dummy.Dummy at 0x7f7878193048>,\n",
       " 'tuna_visual': <pyrep.objects.shape.Shape at 0x7f7878193080>,\n",
       " 'tuna_grasp_point': <pyrep.objects.dummy.Dummy at 0x7f78781930b8>,\n",
       " 'spam_visual': <pyrep.objects.shape.Shape at 0x7f78781930f0>,\n",
       " 'spam_grasp_point': <pyrep.objects.dummy.Dummy at 0x7f7878193128>,\n",
       " 'sugar_visual': <pyrep.objects.shape.Shape at 0x7f7878193160>,\n",
       " 'sugar_grasp_point': <pyrep.objects.dummy.Dummy at 0x7f78781931d0>,\n",
       " 'coffee_visual': <pyrep.objects.shape.Shape at 0x7f7878193198>,\n",
       " 'coffee_grasp_point': <pyrep.objects.dummy.Dummy at 0x7f7878193898>,\n",
       " 'crackers_visual': <pyrep.objects.shape.Shape at 0x7f7878193908>,\n",
       " 'crackers_grasp_point': <pyrep.objects.dummy.Dummy at 0x7f7878193940>,\n",
       " 'mustard_visual': <pyrep.objects.shape.Shape at 0x7f7878193978>,\n",
       " 'mustard_grasp_point': <pyrep.objects.dummy.Dummy at 0x7f78781939b0>,\n",
       " 'waypoint2': <pyrep.objects.dummy.Dummy at 0x7f78781939e8>,\n",
       " 'waypoint0': <pyrep.objects.dummy.Dummy at 0x7f7878193a20>,\n",
       " 'cupboard': <pyrep.objects.shape.Shape at 0x7f7878193a58>,\n",
       " 'waypoint3': <pyrep.objects.dummy.Dummy at 0x7f7878193a90>,\n",
       " 'success': <pyrep.objects.proximity_sensor.ProximitySensor at 0x7f7878193b00>,\n",
       " 'waypoint4': <pyrep.objects.dummy.Dummy at 0x7f7878193ac8>}"
      ]
     },
     "execution_count": 25,
     "metadata": {},
     "output_type": "execute_result"
    }
   ],
   "source": [
    "objs"
   ]
  },
  {
   "cell_type": "code",
   "execution_count": 32,
   "metadata": {},
   "outputs": [],
   "source": [
    "a =  objs[\"chocolate_jello\"].get_parent()"
   ]
  },
  {
   "cell_type": "code",
   "execution_count": 33,
   "metadata": {},
   "outputs": [
    {
     "data": {
      "text/plain": [
       "'Panda_gripper_attachPoint'"
      ]
     },
     "execution_count": 33,
     "metadata": {},
     "output_type": "execute_result"
    }
   ],
   "source": [
    "a.get_name()"
   ]
  },
  {
   "cell_type": "code",
   "execution_count": 35,
   "metadata": {},
   "outputs": [
    {
     "data": {
      "text/plain": [
       "'put_groceries_in_cupboard'"
      ]
     },
     "execution_count": 35,
     "metadata": {},
     "output_type": "execute_result"
    }
   ],
   "source": [
    "objs[\"soup\"].get_parent().get_name()"
   ]
  },
  {
   "cell_type": "code",
   "execution_count": 3,
   "metadata": {},
   "outputs": [
    {
     "ename": "NameError",
     "evalue": "name 'machine' is not defined",
     "output_type": "error",
     "traceback": [
      "\u001b[0;31m---------------------------------------------------------------------------\u001b[0m",
      "\u001b[0;31mNameError\u001b[0m                                 Traceback (most recent call last)",
      "\u001b[0;32m<ipython-input-3-101955da88da>\u001b[0m in \u001b[0;36m<module>\u001b[0;34m\u001b[0m\n\u001b[0;32m----> 1\u001b[0;31m \u001b[0mmachine\u001b[0m\u001b[0;34m.\u001b[0m\u001b[0menv\u001b[0m\u001b[0;34m.\u001b[0m\u001b[0m_pyrep\u001b[0m\u001b[0;34m.\u001b[0m\u001b[0mget_objects_in_tree\u001b[0m\u001b[0;34m(\u001b[0m\u001b[0mg\u001b[0m\u001b[0;34m)\u001b[0m\u001b[0;34m[\u001b[0m\u001b[0;36m0\u001b[0m\u001b[0;34m]\u001b[0m\u001b[0;34m\u001b[0m\u001b[0;34m\u001b[0m\u001b[0m\n\u001b[0m",
      "\u001b[0;31mNameError\u001b[0m: name 'machine' is not defined"
     ]
    }
   ],
   "source": [
    "machine.env._pyrep.get_objects_in_tree(g)[0]"
   ]
  },
  {
   "cell_type": "code",
   "execution_count": 73,
   "metadata": {},
   "outputs": [],
   "source": [
    "obj_list = machine.env._pyrep.get_objects_in_tree(g)"
   ]
  },
  {
   "cell_type": "code",
   "execution_count": 74,
   "metadata": {},
   "outputs": [
    {
     "data": {
      "text/plain": [
       "['Panda_gripper_joint1',\n",
       " 'Panda_gripper_joint2',\n",
       " 'Panda_gripper_visual',\n",
       " 'Panda_gripper_attachPoint',\n",
       " 'Panda_tip',\n",
       " 'Panda_gripper_attachProxSensor',\n",
       " 'cam_wrist',\n",
       " 'cam_wrist_mask',\n",
       " 'Panda_leftfinger_respondable',\n",
       " 'Panda_rightfinger_respondable',\n",
       " 'Panda_leftfinger_visible',\n",
       " 'Panda_gripper_touchSensor1',\n",
       " 'Panda_rightfinger_visual',\n",
       " 'Panda_gripper_touchSensor0',\n",
       " 'Panda_leftfinger_force_contact',\n",
       " 'Panda_rightfinger_force_contact']"
      ]
     },
     "execution_count": 74,
     "metadata": {},
     "output_type": "execute_result"
    }
   ],
   "source": [
    "[i.get_name() for i in obj_list]"
   ]
  },
  {
   "cell_type": "code",
   "execution_count": 65,
   "metadata": {},
   "outputs": [
    {
     "data": {
      "text/plain": [
       "True"
      ]
     },
     "execution_count": 65,
     "metadata": {},
     "output_type": "execute_result"
    }
   ],
   "source": [
    "g.actuate(1,1)"
   ]
  },
  {
   "cell_type": "code",
   "execution_count": 72,
   "metadata": {},
   "outputs": [],
   "source": [
    "machine.env._scene.step()"
   ]
  },
  {
   "cell_type": "code",
   "execution_count": 69,
   "metadata": {},
   "outputs": [],
   "source": [
    "g.release()"
   ]
  },
  {
   "cell_type": "code",
   "execution_count": 77,
   "metadata": {},
   "outputs": [
    {
     "data": {
      "text/plain": [
       "0.5"
      ]
     },
     "execution_count": 77,
     "metadata": {},
     "output_type": "execute_result"
    }
   ],
   "source": [
    "objs[\"soup\"].get_bullet_friction()"
   ]
  },
  {
   "cell_type": "code",
   "execution_count": 2,
   "metadata": {},
   "outputs": [
    {
     "ename": "NameError",
     "evalue": "name 'machine' is not defined",
     "output_type": "error",
     "traceback": [
      "\u001b[0;31m---------------------------------------------------------------------------\u001b[0m",
      "\u001b[0;31mNameError\u001b[0m                                 Traceback (most recent call last)",
      "\u001b[0;32m<ipython-input-2-d8707ac44e1d>\u001b[0m in \u001b[0;36m<module>\u001b[0;34m\u001b[0m\n\u001b[0;32m----> 1\u001b[0;31m \u001b[0mmachine\u001b[0m\u001b[0;34m.\u001b[0m\u001b[0menv\u001b[0m\u001b[0;34m\u001b[0m\u001b[0;34m\u001b[0m\u001b[0m\n\u001b[0m",
      "\u001b[0;31mNameError\u001b[0m: name 'machine' is not defined"
     ]
    }
   ],
   "source": [
    "machine.env"
   ]
  },
  {
   "cell_type": "code",
   "execution_count": null,
   "metadata": {},
   "outputs": [],
   "source": []
  }
 ],
 "metadata": {
  "kernelspec": {
   "display_name": "Python 3",
   "language": "python",
   "name": "python3"
  },
  "language_info": {
   "codemirror_mode": {
    "name": "ipython",
    "version": 3
   },
   "file_extension": ".py",
   "mimetype": "text/x-python",
   "name": "python",
   "nbconvert_exporter": "python",
   "pygments_lexer": "ipython3",
   "version": "3.6.10"
  }
 },
 "nbformat": 4,
 "nbformat_minor": 2
}
