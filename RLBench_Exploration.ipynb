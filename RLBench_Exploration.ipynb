{
 "cells": [
  {
   "cell_type": "markdown",
   "metadata": {},
   "source": [
    "# State machine like implementation for grasping"
   ]
  },
  {
   "cell_type": "code",
   "execution_count": 1,
   "metadata": {},
   "outputs": [],
   "source": [
    "from rlbench.environment import Environment\n",
    "from rlbench.action_modes import ArmActionMode, ActionMode\n",
    "from rlbench.observation_config import ObservationConfig\n",
    "from rlbench.tasks import *\n",
    "import numpy as np\n",
    "from pyrep.const import ConfigurationPathAlgorithms as Algos"
   ]
  },
  {
   "cell_type": "code",
   "execution_count": 2,
   "metadata": {},
   "outputs": [],
   "source": [
    "class StateMachine(object):\n",
    "    def __init__(self):\n",
    "        self.env=None\n",
    "        self.home=None\n",
    "        self.task=None\n",
    "        \n",
    "    def initialize(self):\n",
    "        DATASET = ''\n",
    "        obs_config = ObservationConfig()\n",
    "        obs_config.set_all(True)\n",
    "        obs_config.left_shoulder_camera.rgb = True\n",
    "        obs_config.right_shoulder_camera.rgb = True\n",
    "        action_mode = ActionMode(ArmActionMode.DELTA_EE_POSE)\n",
    "        self.env = Environment(\n",
    "            action_mode, DATASET, obs_config, False)\n",
    "        self.env.launch()\n",
    "        self.task = self.env.get_task(EmptyContainer)\n",
    "        self.task.reset()\n",
    "        self.home = self.get_objects()['large_container'].get_pose()\n",
    "        self.home[2]+=0.3\n",
    "        # demos = task.get_demos(3, live_demos=live_demos)\n",
    "        \n",
    "    def get_objects(self):\n",
    "        objs = self.env._scene._active_task.get_base().get_objects_in_tree(exclude_base=True, first_generation_only=False)\n",
    "        objs_dict = {}\n",
    "        for obj in objs:\n",
    "            name = obj.get_name()\n",
    "            pose = obj.get_pose()\n",
    "            objs_dict[name] = obj\n",
    "        return objs_dict\n",
    "\n",
    "    # Move above object\n",
    "    def move_to(self, pose, pad=0.05, ignore_collisions=True):\n",
    "        target_pose = np.copy(pose)\n",
    "        obs = self.env._scene.get_observation()\n",
    "        init_pose=obs.gripper_pose\n",
    "        obs = self.env._scene.get_observation()\n",
    "        init_pose=obs.gripper_pose\n",
    "        target_pose[2]+=pad\n",
    "        path=self.env._robot.arm.get_path(np.array(target_pose[0:3]),quaternion=np.array([0,1,0,0]), trials=1000,ignore_collisions=True, algorithm=Algos.RRTConnect)\n",
    "        # TODO catch errors and deal with situations when path not found\n",
    "        return path\n",
    "    \n",
    "    def grasp(self,obj):\n",
    "        # TODO get feedback to check if grasp is successfull\n",
    "        cond=False\n",
    "        while not cond:\n",
    "            cond=self.env._robot.gripper.actuate(0,0.1)\n",
    "            self.env._scene.step()\n",
    "        cond = self.env._robot.gripper.grasp(obj)\n",
    "        return cond\n",
    "    \n",
    "    def release(self, obj):\n",
    "        cond=False\n",
    "        while not cond:\n",
    "            cond=self.env._robot.gripper.actuate(1,0.1)\n",
    "            self.env._scene.step()\n",
    "        self.env._robot.gripper.release()\n",
    "    \n",
    "    def execute(self, path):\n",
    "        done=False\n",
    "        path.set_to_start()\n",
    "        while not done:\n",
    "            done = path.step()\n",
    "            a = path.visualize()\n",
    "            self.env._scene.step()\n",
    "        return done\n",
    "    \n",
    "    def reset(self):\n",
    "        self.task.reset()\n",
    "        "
   ]
  },
  {
   "cell_type": "code",
   "execution_count": 3,
   "metadata": {},
   "outputs": [
    {
     "name": "stderr",
     "output_type": "stream",
     "text": [
      "/home/arcot/.local/lib/python3.7/site-packages/pyrep/pyrep.py:209: UserWarning: Could not change simulation timestep. You may need to change it to \"custom dt\" using simulation settings dialog.\n",
      "  warnings.warn('Could not change simulation timestep. You may need '\n"
     ]
    }
   ],
   "source": [
    "# env, task, obs = init()\n",
    "machine = StateMachine()\n",
    "machine.initialize()"
   ]
  },
  {
   "cell_type": "code",
   "execution_count": 4,
   "metadata": {},
   "outputs": [],
   "source": [
    "machine.reset()\n",
    "objects = ['Shape', 'Shape1', 'Shape3']\n",
    "for shape in objects:\n",
    "    # move above object\n",
    "    objs=machine.get_objects()\n",
    "    pose=objs[shape].get_pose()\n",
    "    path=machine.move_to(pose,False)\n",
    "    machine.execute(path)\n",
    "\n",
    "    # grasp the object\n",
    "    cond = machine.grasp(objs[shape])\n",
    "\n",
    "    # move to home position\n",
    "    path=machine.move_to(machine.home, 0, True)\n",
    "    machine.execute(path)\n",
    "\n",
    "    # move above small container\n",
    "    obj=machine.get_objects()['small_container0']\n",
    "    pose = obj.get_pose()\n",
    "    path=machine.move_to(pose,0.1,True)\n",
    "    machine.execute(path)\n",
    "\n",
    "    # release the object\n",
    "    machine.release(obj)\n",
    "\n",
    "    # go back to home position\n",
    "    path=machine.move_to(machine.home,0,True)\n",
    "    machine.execute(path)"
   ]
  },
  {
   "cell_type": "code",
   "execution_count": 5,
   "metadata": {},
   "outputs": [
    {
     "data": {
      "text/plain": [
       "{'large_container': <pyrep.objects.shape.Shape at 0x7f217a3425c0>,\n",
       " 'small_container0': <pyrep.objects.shape.Shape at 0x7f217a342780>,\n",
       " 'small_container1': <pyrep.objects.shape.Shape at 0x7f217a3427f0>,\n",
       " 'Shape': <pyrep.objects.shape.Shape at 0x7f217a342128>,\n",
       " 'Shape1': <pyrep.objects.shape.Shape at 0x7f217a342748>,\n",
       " 'Shape3': <pyrep.objects.shape.Shape at 0x7f217a342860>,\n",
       " 'waypoint0': <pyrep.objects.dummy.Dummy at 0x7f217a3427b8>,\n",
       " 'waypoint1': <pyrep.objects.dummy.Dummy at 0x7f217a342898>,\n",
       " 'waypoint2': <pyrep.objects.dummy.Dummy at 0x7f217a342940>,\n",
       " 'waypoint3': <pyrep.objects.dummy.Dummy at 0x7f217a342978>,\n",
       " 'spawn_boundary': <pyrep.objects.shape.Shape at 0x7f217a3429e8>,\n",
       " 'success0': <pyrep.objects.proximity_sensor.ProximitySensor at 0x7f217a342828>,\n",
       " 'success1': <pyrep.objects.proximity_sensor.ProximitySensor at 0x7f217a3428d0>,\n",
       " 'Shape0': <pyrep.objects.shape.Shape at 0x7f217a342a20>,\n",
       " 'Shape2': <pyrep.objects.shape.Shape at 0x7f217a342a58>,\n",
       " 'Shape4': <pyrep.objects.shape.Shape at 0x7f217a342b00>}"
      ]
     },
     "execution_count": 5,
     "metadata": {},
     "output_type": "execute_result"
    }
   ],
   "source": [
    "machine.get_objects()"
   ]
  },
  {
   "cell_type": "code",
   "execution_count": null,
   "metadata": {},
   "outputs": [],
   "source": []
  }
 ],
 "metadata": {
  "kernelspec": {
   "display_name": "Python 3",
   "language": "python",
   "name": "python3"
  },
  "language_info": {
   "codemirror_mode": {
    "name": "ipython",
    "version": 3
   },
   "file_extension": ".py",
   "mimetype": "text/x-python",
   "name": "python",
   "nbconvert_exporter": "python",
   "pygments_lexer": "ipython3",
   "version": "3.7.3"
  }
 },
 "nbformat": 4,
 "nbformat_minor": 2
}
